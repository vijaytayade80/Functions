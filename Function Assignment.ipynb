{
 "cells": [
  {
   "cell_type": "raw",
   "id": "63db6e5c-798a-4235-88fe-974b7ebb1525",
   "metadata": {},
   "source": [
    "1.Explain the concept of function arguments and parameters in Python.\n",
    "Ans- In Python, function arguments and parameters are closely related concepts used when defining and calling functions.\n",
    "Parameters:\n",
    "•\tParameters are the variables listed inside the parentheses in a function definition. They are placeholders that accept values when the function is called.\n",
    "Arguments:\n",
    "•\tArguments are the actual values passed to the function when it is called. These values are assigned to the parameters.\n"
   ]
  },
  {
   "cell_type": "code",
   "execution_count": 1,
   "id": "9721f0da-c91e-48cd-9dde-50e53671cf89",
   "metadata": {},
   "outputs": [
    {
     "name": "stdout",
     "output_type": "stream",
     "text": [
      "8\n"
     ]
    }
   ],
   "source": [
    "#Example\n",
    "# Function definition with parameters 'a' and 'b' \n",
    "def add_numbers(a, b):\n",
    "    return a + b \n",
    "\n",
    "# Function call with arguments 3 and 5\n",
    "result = add_numbers(3, 5)\n",
    "print(result) # Output: 8"
   ]
  },
  {
   "cell_type": "raw",
   "id": "99a539b6-f7da-48db-a6a0-b2e4634da64d",
   "metadata": {},
   "source": [
    "2. What are the different ways to define and call a function in Python?\n",
    "Ans- \n",
    "Definition:\n",
    "A basic function is defined using the def keyword, followed by the function name, parentheses (possibly with parameters), and a colon. The function body contains the logic.\n",
    "Calling:\n",
    "The function is called by using its name followed by parentheses with any arguments (if needed).\n",
    "\n"
   ]
  },
  {
   "cell_type": "code",
   "execution_count": null,
   "id": "70495ecd-f7eb-4c10-bb45-266527bbabbb",
   "metadata": {},
   "outputs": [],
   "source": [
    "# Function definition\n",
    " def greet(name):\n",
    "     return f\"Hello, {name}\"\n",
    "     print(greet(\"Alice\"))\n",
    "      \n",
    "\n",
    "# Function call\n",
    "print(greet(\"Alice\"))"
   ]
  },
  {
   "cell_type": "code",
   "execution_count": null,
   "id": "f54d42be-0cdc-4ad5-9b63-6685b833eb9d",
   "metadata": {},
   "outputs": [],
   "source": [
    "3.What is the purpose of the `return` statement in a Python function?\n",
    "Ans- The return statement in a Python function is used to send a result back from the function to the caller. \n",
    "It allows the function to produce a value that can be used elsewhere in the program. The function terminates when the return statement is executed, and any code after return is not executed.\n"
   ]
  },
  {
   "cell_type": "code",
   "execution_count": 15,
   "id": "1b6e78a1-aa1e-4948-aa65-bd55193262dd",
   "metadata": {},
   "outputs": [
    {
     "name": "stdout",
     "output_type": "stream",
     "text": [
      "8\n"
     ]
    }
   ],
   "source": [
    "# Example\n",
    "def add(a, b):\n",
    "    return a + b\n",
    "    result = add(3, 5) # Function call \n",
    "print(result) # Output: 8"
   ]
  },
  {
   "cell_type": "code",
   "execution_count": null,
   "id": "297189c8-0bd8-4eba-9e16-ddc7a284a231",
   "metadata": {},
   "outputs": [],
   "source": [
    "4.What are iterators in Python and how do they differ from iterables?\n",
    "Ans- In Python, iterators and iterables are related but distinct concepts. They are crucial for working with loops, such as for loops, and for handling sequences of data in a memory-efficient manner. Let’s go over both concepts, explain how they differ, and provide examples.\n",
    "1. Iterable:\n",
    "An iterable is any object in Python that can return an iterator. In simple terms, an iterable is any object that can be looped over (iterated over) using a for loop or other iteration methods.\n",
    "•\tAn iterable must implement the __iter__() method, which returns an iterator.\n",
    "•\tCommon iterables in Python include lists, tuples, strings, sets, and dictionaries.\n",
    "2. Iterator:\n",
    "An iterator is an object that allows you to traverse through a sequence (or iterable) one item at a time. It keeps track of the current state of the iteration.\n",
    "•\tAn iterator implements two methods:\n",
    "1.\t__iter__(): Returns the iterator object itself (it is required for compatibility with iterables).\n",
    "2.\t__next__(): Returns the next item in the sequence. When there are no more items, it raises a StopIteration exception to signal the end of the sequence.\n"
   ]
  },
  {
   "cell_type": "code",
   "execution_count": null,
   "id": "3ef29ede-835c-4e8e-9cfa-853d275c703c",
   "metadata": {},
   "outputs": [],
   "source": [
    "#Example\n",
    "# List is an iterable \n",
    "numbers = [1, 2, 3, 4] \n",
    "# Using a for loop, we can iterate over the iterable (numbers) \n",
    "for num in numbers:\n",
    "    print(num)\n",
    "\n",
    "# Get an iterator from an iterable\n",
    "numbers = [1, 2, 3, 4]\n",
    "iterator = iter(numbers) # 'iter()' creates an iterator from the list\n",
    "# Using 'next()' to manually iterate through the items\n",
    "print(next(iterator)) # Output: 1\n",
    "print(next(iterator)) # Output: 2 \n",
    "print(next(iterator)) # Output: 3 \n",
    "print(next(iterator)) # Output: 4\n",
    "\n",
    "# Now, trying to call next again will raise StopIteration \n",
    "print(next(iterator)) # Raises StopIteration exceptio"
   ]
  },
  {
   "cell_type": "code",
   "execution_count": null,
   "id": "2b1d3eb6-afb1-4505-b5af-5808be39c117",
   "metadata": {},
   "outputs": [],
   "source": [
    "5.Explain the concept of generators in Python and how they are defined.\n",
    "Ans -Generators in Python are a type of iterable, like lists or tuples, but they are more memory-efficient and lazy in their execution.\n",
    "They allow you to iterate over data without storing the entire sequence in memory at once, making them particularly useful when working with large datasets or infinite sequences.\n",
    "How Generators Work\n",
    "Generators yield items one at a time only when requested, rather than generating all items at once. This on-demand generation makes them more memory-efficient.\n",
    "Defining Generators\n",
    "Generators can be defined in two ways:\n",
    "1.\tUsing Functions with the yield Keyword A generator function is defined like a regular function but uses the yield keyword instead of return. \n",
    "Each time the generator's __next__() method is called (implicitly by for loops or explicitly with next()), execution resumes from where it left off, and the next value is yielded.\n"
   ]
  },
  {
   "cell_type": "code",
   "execution_count": null,
   "id": "ef9fbc75-7fa5-4db8-961e-e1031cc48d1a",
   "metadata": {},
   "outputs": [],
   "source": [
    "Example\n",
    "def count_up_to(n):\n",
    "    count 1\n",
    "\n",
    "while count <= n:\n",
    "    yield count count += 1\n",
    "    \n",
    "\n",
    " # Usage counter = count_up_to(5)\n",
    "for num in counter:\n",
    "    print(num)\n"
   ]
  },
  {
   "cell_type": "code",
   "execution_count": null,
   "id": "98b02119-6995-4d36-992d-a9815addb737",
   "metadata": {},
   "outputs": [],
   "source": [
    "6.What are the advantages of using generators over regular functions?\n",
    "Ans-Generators offer several advantages over regular functions in Python, especially when working with large datasets or infinite sequences. Here are the key benefits along with an example:\n",
    "✅ Advantages of Generators:\n",
    "1.\tMemory Efficiency (Lazy Evaluation):\n",
    "o\tGenerators yield items one at a time, consuming less memory compared to lists that store all elements at once.\n",
    "2.\tOn-Demand Computation:\n",
    "o\tThey generate values only when requested, making them ideal for large or infinite data streams.\n",
    "3.\tImproved Performance:\n",
    "o\tThey avoid the overhead of list operations, improving performance with large data.\n",
    "4.\tState Retention:\n",
    "o\tGenerators automatically remember where they left off between iterations without needing extra variables.\n",
    "5.\tReadable Code:\n",
    "o\tSimplifies complex iteration logic with the yield keyword\n"
   ]
  },
  {
   "cell_type": "code",
   "execution_count": null,
   "id": "c833e799-a638-41ee-aad2-56dd12021c6e",
   "metadata": {},
   "outputs": [],
   "source": [
    "#Example\n",
    "def square_numbers(nums):\n",
    "    result = [] \n",
    "for num in nums:\n",
    "     result.append(num * num) \n",
    "return result\n",
    " numbers = [1, 2, 3, 4, 5] \n",
    "squares = square_numbers(numbers)\n",
    "print(squares)\n",
    "\n"
   ]
  },
  {
   "cell_type": "code",
   "execution_count": null,
   "id": "aca33359-ab13-47e6-b36d-70f803b2882f",
   "metadata": {},
   "outputs": [],
   "source": [
    "7.What is a lambda function in Python and when is it typically used?\n",
    "Ans-A lambda function in Python is an anonymous function (a function without a name) defined using the lambda keyword. It can have any number of arguments but only one expression. The result of the expression is automatically returned.\n",
    "It is typically used when you need a small function for a short period and don't want to formally define it using def.\n",
    "    \n"
   ]
  },
  {
   "cell_type": "code",
   "execution_count": null,
   "id": "97950573-b43d-4da0-a326-42fa208a5c05",
   "metadata": {},
   "outputs": [],
   "source": [
    "#Example\n",
    "square = lambda x: x ** 2 \n",
    "print(square(5)) # Output: 25\n",
    "\n"
   ]
  },
  {
   "cell_type": "code",
   "execution_count": null,
   "id": "07a21c63-f1d2-4cf2-9523-11883264fb8e",
   "metadata": {},
   "outputs": [],
   "source": [
    "8.Explain the purpose and usage of the `map()` function in Python.\n",
    "Ans-The map() function in Python is used to apply a given function to each item in an iterable (like a list, tuple, or set) and return a new iterable (typically a map object, which is an iterator).\n"
   ]
  },
  {
   "cell_type": "code",
   "execution_count": null,
   "id": "f93ba253-ea4f-489a-81b4-0f344e7e073f",
   "metadata": {},
   "outputs": [],
   "source": [
    "def square(num):\n",
    "    return num ** 2\n",
    "    numbers = [1, 2, 3, 4, 5]\n",
    " result = map(square, numbers) # Convert map object to list \n",
    "print(list(result))\n"
   ]
  },
  {
   "cell_type": "code",
   "execution_count": null,
   "id": "d0ea71c6-e8e0-4e25-9f4a-46849df7916e",
   "metadata": {},
   "outputs": [],
   "source": [
    "9.What is the difference between `map()`, `reduce()`, and `filter()` functions in Python?\n",
    "In Python, the map(), reduce(), and filter() functions are built-in functions used for processing iterables like lists or tuples. They are commonly used in functional programming.\n",
    "1. map()\n",
    "The map() function applies a given function to all items in an input iterable (like a list) and returns a map object (an iterator).\n"
   ]
  },
  {
   "cell_type": "code",
   "execution_count": null,
   "id": "5b921b7e-30c6-4144-8518-c9fae1b53c1e",
   "metadata": {},
   "outputs": [],
   "source": [
    "#Example:\n",
    "def square(num):\n",
    "    return num ** 2\n",
    "    numbers = [1, 2, 3, 4, 5] \n",
    "    squared_numbers = map(square, numbers) \n",
    "print(list(squared_numbers))\n",
    "\n"
   ]
  },
  {
   "cell_type": "code",
   "execution_count": null,
   "id": "4a1ab203-a919-4ddc-86d1-c3d76823eae3",
   "metadata": {},
   "outputs": [],
   "source": [
    "Using pen & Paper write the internal mechanism for sum operation using reduce function on this given\n",
    "list:[47,11,42,13]:\n",
    "Ans-# Example list sample_list = [1, 2, 3, 4, 5, 6, 7, 8, 9, 10] # Calculate the sum of even numbers result = sum_even_numbers(sample_list) # Output the result print(f\"The sum of even numbers in the list is: {result}\")\n",
    "# Example list\n",
    " sample_list = [1, 2, 3, 4, 5, 6, 7, 8, 9, 10] \n",
    "# Calculate the sum of even numbers \n",
    "result = sum_even_numbers(sample_list) \n",
    "# Output the result \n",
    "print(f\"The sum of even numbers in the list is: {result}\")\n",
    "\n",
    "\n"
   ]
  },
  {
   "cell_type": "raw",
   "id": "ccdd5cd3-8b6d-471b-8301-8444f90a1635",
   "metadata": {},
   "source": [
    "##Practicle Questions"
   ]
  },
  {
   "cell_type": "code",
   "execution_count": null,
   "id": "7af63cef-f9a5-4a78-bcd7-eb86daa1339e",
   "metadata": {},
   "outputs": [],
   "source": [
    "1. Write a Python function that takes a list of numbers as input and returns the sum of all even numbers in the list.\n",
    "Ans- def sum_of_even_numbers(numbers):\n",
    "    return sum(num for num in numbers if num % 2 == 0)"
   ]
  },
  {
   "cell_type": "code",
   "execution_count": null,
   "id": "f1ba0543-8091-4934-80de-18d68fe5bfe6",
   "metadata": {},
   "outputs": [],
   "source": [
    "2.\tCreate a Python function that accepts a string and returns the reverse of that string"
   ]
  },
  {
   "cell_type": "code",
   "execution_count": null,
   "id": "bb704b60-1788-4405-93ca-4d20f1c0287e",
   "metadata": {},
   "outputs": [],
   "source": [
    "Ans: original_string = \"Hello, World!\"\n",
    " reversed_string = reverse_string(original_string) \n",
    "print(reversed_string)\n"
   ]
  },
  {
   "cell_type": "code",
   "execution_count": null,
   "id": "4f4f8f6a-4b12-4b94-bcae-c34938d0a823",
   "metadata": {},
   "outputs": [],
   "source": [
    "3.\tImplement a Python function that takes a list of integers and returns a new list containing the squares of each number.\n",
    "Ans- Example list of integers \n",
    "sample_list = [1, 2, 3, 4, 5] \n",
    "# Compute the squares of each number in the list\n",
    " squared_list = square_numbers(sample_list)\n",
    " # Output the result\n",
    " print(squared_list)\n"
   ]
  },
  {
   "cell_type": "code",
   "execution_count": null,
   "id": "28c2d25c-77fb-4f92-8703-77afd532fa4e",
   "metadata": {},
   "outputs": [],
   "source": [
    "4.\tWrite a Python function that checks if a given number is prime or not from 1 to 200\n",
    "\n",
    "or num in range(1, 201): \n",
    "Ams-if is_prime(num): \n",
    "print(f\"{num} is a prime number.\")\n",
    " else:\n",
    " print(f\"{num} is not a prime number.\").\n",
    "\n",
    "\n"
   ]
  },
  {
   "cell_type": "code",
   "execution_count": null,
   "id": "fb7ba641-b328-4c90-8e26-b74790b439af",
   "metadata": {},
   "outputs": [],
   "source": [
    "5.\tCreate an iterator class in Python that generates the Fibonacci sequence up to a specified number of terms.\n",
    "Ans-# Create an instance of FibonacciIterator to generate 10 terms \n",
    "fib_iter = FibonacciIterator(10) \n",
    "# Iterate through the Fibonacci sequence for number in fib_iter:\n",
    " print(number)\n"
   ]
  },
  {
   "cell_type": "code",
   "execution_count": null,
   "id": "3e1095de-d271-4b38-ae3b-35fc6a86b884",
   "metadata": {},
   "outputs": [],
   "source": [
    "6.Write a generator function in Python that yields the powers of 2 up to a given exponent.\n",
    "\n",
    "def powers_of_two(max_exponent):\n",
    "    \"\"\"Generator that yields powers of 2 up to 2**max_exponent.\"\"\"\n",
    "    for exponent in range(max_exponent + 1):\n",
    "        yield 2 ** exponent\n",
    "\n",
    "# Example usage\n",
    "for power in powers_of_two(5):\n",
    "    print(power)\n",
    "    \n",
    "\n"
   ]
  },
  {
   "cell_type": "code",
   "execution_count": null,
   "id": "e0c07e6d-5e9a-4319-9317-3767a5f3ddff",
   "metadata": {},
   "outputs": [],
   "source": [
    "7.Implement a generator function that reads a file line by line and yields each line as a string.\n",
    "\n",
    "file_path = 'example.txt' \n",
    "for line in read_file_line_by_line(file_path): \n",
    "print(line)\n"
   ]
  },
  {
   "cell_type": "code",
   "execution_count": null,
   "id": "f7dc1dc0-f173-450e-b381-9b86914f5e64",
   "metadata": {},
   "outputs": [],
   "source": [
    "8.Use a lambda function in Python to sort a list of tuples based on the second element of each tuple.\n",
    "\n",
    "Sample list of tuples \n",
    "data = [('apple', 3), ('banana', 1), ('cherry', 2)]\n",
    " # Sort the list in place based on the second element of each tuple \n",
    "data.sort(key=lambda x: x[1]) \n",
    "print(data)\n"
   ]
  },
  {
   "cell_type": "code",
   "execution_count": null,
   "id": "bf82d31f-6828-43bb-8a33-e1335ecce44e",
   "metadata": {},
   "outputs": [],
   "source": [
    "9.Write a Python program that uses `map()` to convert a list of temperatures from Celsius to Fahrenheit.\n",
    "\n",
    "# List of temperatures in Celsius \n",
    "celsius_temperatures = [0, 20, 37, 100] \n",
    "# Use map() with a lambda function to convert each temperature\n",
    " fahrenheit_temperatures = list(map(lambda c: (c * 9/5) + 32, celsius_temperatures)) \n",
    "# Output the result\n",
    " print(fahrenheit_temperatures)\n"
   ]
  },
  {
   "cell_type": "code",
   "execution_count": null,
   "id": "9ab5cbb3-044d-4032-bbc8-b95fc79d170c",
   "metadata": {},
   "outputs": [],
   "source": [
    "10.Create a Python program that uses `filter()` to remove all the vowels from a given string.\n",
    "def is_not_vowel(char):\n",
    "    vowels = 'aeiouAEIOU'\n",
    "    return char not in vowels\n",
    "\n",
    "def remove_vowels(input_string):\n",
    "    return ''.join(filter(is_not_vowel, input_string))\n",
    "\n",
    "# Example usage\n",
    "input_str = \"Hello, World!\"\n",
    "output_str = remove_vowels(input_str)\n",
    "print(output_str) (input_str) print(output_str)\n"
   ]
  }
 ],
 "metadata": {
  "kernelspec": {
   "display_name": "Python [conda env:base] *",
   "language": "python",
   "name": "conda-base-py"
  },
  "language_info": {
   "codemirror_mode": {
    "name": "ipython",
    "version": 3
   },
   "file_extension": ".py",
   "mimetype": "text/x-python",
   "name": "python",
   "nbconvert_exporter": "python",
   "pygments_lexer": "ipython3",
   "version": "3.12.7"
  }
 },
 "nbformat": 4,
 "nbformat_minor": 5
}
